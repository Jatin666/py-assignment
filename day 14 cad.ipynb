{
  "nbformat": 4,
  "nbformat_minor": 0,
  "metadata": {
    "colab": {
      "name": "Untitled15.ipynb",
      "provenance": [],
      "authorship_tag": "ABX9TyPxJnfEH/tq52dEGmwRXX4v",
      "include_colab_link": true
    },
    "kernelspec": {
      "name": "python3",
      "display_name": "Python 3"
    }
  },
  "cells": [
    {
      "cell_type": "markdown",
      "metadata": {
        "id": "view-in-github",
        "colab_type": "text"
      },
      "source": [
        "<a href=\"https://colab.research.google.com/github/Jatin666/py-assignment/blob/master/day%2014%20cad.ipynb\" target=\"_parent\"><img src=\"https://colab.research.google.com/assets/colab-badge.svg\" alt=\"Open In Colab\"/></a>"
      ]
    },
    {
      "cell_type": "code",
      "metadata": {
        "id": "1PX1ZGEn5I1P",
        "colab_type": "code",
        "outputId": "899de778-d9fd-42f6-e7e1-6d876a76a6f7",
        "colab": {
          "base_uri": "https://localhost:8080/",
          "height": 128
        }
      },
      "source": [
        "##Ask the user to input- Name, Phone Number and Email id . Once Details are taken insert the details in a list and print the list.\n",
        "a=input(\"enter the name : \")\n",
        "b=int(input(\"enter the number : \")\n",
        "c=input(\"enter the email.id : \")\n",
        "d=[]\n",
        "e=a+b+c\n",
        "f=d.append(e)\n",
        "print(f)"
      ],
      "execution_count": 0,
      "outputs": [
        {
          "output_type": "error",
          "ename": "SyntaxError",
          "evalue": "ignored",
          "traceback": [
            "\u001b[0;36m  File \u001b[0;32m\"<ipython-input-2-0b00c9635fe1>\"\u001b[0;36m, line \u001b[0;32m3\u001b[0m\n\u001b[0;31m    g=input(\"enter the email.id : \")\u001b[0m\n\u001b[0m    ^\u001b[0m\n\u001b[0;31mSyntaxError\u001b[0m\u001b[0;31m:\u001b[0m invalid syntax\n"
          ]
        }
      ]
    },
    {
      "cell_type": "code",
      "metadata": {
        "id": "yhBpbNId6d3p",
        "colab_type": "code",
        "outputId": "d9f6c65c-8202-4a5f-f3e8-f5852cbd7103",
        "colab": {
          "base_uri": "https://localhost:8080/",
          "height": 54
        }
      },
      "source": [
        "## Write a program that generates a list L of 50 random numbers between 1 and 100. \n",
        "import random\n",
        "start=0\n",
        "end=\" \"\n",
        "for i in range(50):\n",
        "  empty=[]\n",
        "  computer=random.randint(0,100)\n",
        "  empty.append(computer)\n",
        "  print(empty,end=\" \")"
      ],
      "execution_count": 0,
      "outputs": [
        {
          "output_type": "stream",
          "text": [
            "[30] [29] [2] [9] [32] [95] [2] [17] [60] [37] [36] [91] [68] [61] [4] [65] [46] [76] [86] [75] [43] [11] [62] [32] [47] [100] [67] [100] [8] [44] [31] [61] [19] [66] [91] [9] [59] [33] [51] [63] [51] [50] [50] [65] [94] [47] [87] [82] [68] [13] "
          ],
          "name": "stdout"
        }
      ]
    },
    {
      "cell_type": "code",
      "metadata": {
        "id": "UEcZlkrP8-8K",
        "colab_type": "code",
        "colab": {}
      },
      "source": [
        "##write a program that ask the user to enter a list of integer. do the following\n",
        "##print the total number of items in the list\n",
        "##print the last item in the list\n",
        "##print the list in reverse order\n",
        "##print yes if list contains 5 otherwise NO\n",
        "##print the number of 5 in the list\n",
        "##remove the first and last item in the list and sort the remaining item and print the list\n",
        "##print how many integers are less than 5\n",
        "\n",
        "a=['jatin','diksha','nabieu','pankaj']\n",
        "print(len(a)) \n"
      ],
      "execution_count": 0,
      "outputs": []
    },
    {
      "cell_type": "code",
      "metadata": {
        "id": "4PrPND8B_yUp",
        "colab_type": "code",
        "outputId": "18259a81-a8b2-4aa4-d6cf-28b614cff7eb",
        "colab": {
          "base_uri": "https://localhost:8080/",
          "height": 34
        }
      },
      "source": [
        "##print the last item in the list\n",
        "a=['jatin','diksha','nabieu','pankaj']\n",
        "print(a[-1])"
      ],
      "execution_count": 0,
      "outputs": [
        {
          "output_type": "stream",
          "text": [
            "pankaj\n"
          ],
          "name": "stdout"
        }
      ]
    },
    {
      "cell_type": "code",
      "metadata": {
        "id": "RpD1Sckd_7BY",
        "colab_type": "code",
        "outputId": "e592385d-0516-48fc-c74e-cc6540b4eb20",
        "colab": {
          "base_uri": "https://localhost:8080/",
          "height": 34
        }
      },
      "source": [
        "##print the list in reverse order\n",
        "a=['jatin','diksha','nabieu','pankaj']\n",
        "print(a[::-1])"
      ],
      "execution_count": 0,
      "outputs": [
        {
          "output_type": "stream",
          "text": [
            "['pankaj', 'nabieu', 'diksha', 'jatin']\n"
          ],
          "name": "stdout"
        }
      ]
    },
    {
      "cell_type": "code",
      "metadata": {
        "id": "3dAIxpNBAKiV",
        "colab_type": "code",
        "outputId": "94f08147-6747-4550-af81-4599828ecc13",
        "colab": {
          "base_uri": "https://localhost:8080/",
          "height": 34
        }
      },
      "source": [
        "##print yes if list contains 5 otherwise NO\n",
        "a=['jatin','diksha','nabieu','pankaj',5]\n",
        "if items in a is 5:\n",
        "  print(\"yes\")\n",
        "else:\n",
        "  print(\"no\")"
      ],
      "execution_count": 0,
      "outputs": [
        {
          "output_type": "stream",
          "text": [
            "no\n"
          ],
          "name": "stdout"
        }
      ]
    },
    {
      "cell_type": "code",
      "metadata": {
        "id": "OfBtXC_xBf9u",
        "colab_type": "code",
        "colab": {}
      },
      "source": [
        "##print the number of 5 in the list"
      ],
      "execution_count": 0,
      "outputs": []
    },
    {
      "cell_type": "code",
      "metadata": {
        "id": "CUPwzkEyBsbI",
        "colab_type": "code",
        "outputId": "aadce96b-fb43-40c1-d64e-ccfcdc713411",
        "colab": {
          "base_uri": "https://localhost:8080/",
          "height": 84
        }
      },
      "source": [
        "##remove the first and last item in the list and sort the remaining item and print the list\n",
        "a=[1,4,7,2,6,3,5]\n",
        "print(a)\n",
        "print(\"after removing first and last item\")\n",
        "del a[0],a[-1]\n",
        "print(\"unsorted list :\"+str(a))\n",
        "a.sort()\n",
        "print(\"sorted list : \"+str(a))"
      ],
      "execution_count": 0,
      "outputs": [
        {
          "output_type": "stream",
          "text": [
            "[1, 4, 7, 2, 6, 3, 5]\n",
            "after removing first and last item\n",
            "unsorted list :[4, 7, 2, 6, 3]\n",
            "sorted list : [2, 3, 4, 6, 7]\n"
          ],
          "name": "stdout"
        }
      ]
    },
    {
      "cell_type": "code",
      "metadata": {
        "id": "_cXuL8Z1EoKo",
        "colab_type": "code",
        "outputId": "21999ee3-4406-419f-d12a-13cc8582595b",
        "colab": {
          "base_uri": "https://localhost:8080/",
          "height": 67
        }
      },
      "source": [
        "##print how many integers are less than 5\n",
        "a=[1,7,2,6,3]\n",
        "b=5\n",
        "count=0\n",
        "for item in a:\n",
        "  if item<b:\n",
        "    count=count + 1\n",
        "    print(\"less than 5 are\"+str(count))"
      ],
      "execution_count": 0,
      "outputs": [
        {
          "output_type": "stream",
          "text": [
            "less than 5 are1\n",
            "less than 5 are2\n",
            "less than 5 are3\n"
          ],
          "name": "stdout"
        }
      ]
    },
    {
      "cell_type": "code",
      "metadata": {
        "id": "SI-JUGY4HTaC",
        "colab_type": "code",
        "outputId": "c51e5e55-0d8a-454f-f361-46cf8e6bfe4c",
        "colab": {
          "base_uri": "https://localhost:8080/",
          "height": 34
        }
      },
      "source": [
        "##write a program that generate a list of 20 random numbers between 1 and 100.\n",
        "##print the list\n",
        "##print the average of the element in the list\n",
        "##print the largest and smallest value in the list\n",
        "##print the second largest and second smallest entries in the list\n",
        "##print how many even numbers are in the list\n",
        "\n",
        "import random\n",
        "start=0\n",
        "end=\" \"\n",
        "for i in range(20):\n",
        "  empty=[]\n",
        "  computer=random.randint(0,100)\n",
        "  empty.append(computer)\n",
        "  print(empty,end=\" \")"
      ],
      "execution_count": 0,
      "outputs": [
        {
          "output_type": "stream",
          "text": [
            "[82] [34] [64] [54] [85] [95] [12] [14] [9] [20] [100] [16] [100] [95] [39] [90] [48] [96] [54] [16] "
          ],
          "name": "stdout"
        }
      ]
    },
    {
      "cell_type": "code",
      "metadata": {
        "id": "PsDBtomKLNpn",
        "colab_type": "code",
        "outputId": "c658fdf2-0e8b-464f-c6d4-ecaa78dae00f",
        "colab": {
          "base_uri": "https://localhost:8080/",
          "height": 212
        }
      },
      "source": [
        "##print the average of the element in the list\n",
        "import random\n",
        "a[1,4,2,5,6,9,8,33,4,25,14,26,47]\n",
        "avg = (sum(a)/len(a))\n",
        "print(\"The average is \",)"
      ],
      "execution_count": 0,
      "outputs": [
        {
          "output_type": "error",
          "ename": "TypeError",
          "evalue": "ignored",
          "traceback": [
            "\u001b[0;31m---------------------------------------------------------------------------\u001b[0m",
            "\u001b[0;31mTypeError\u001b[0m                                 Traceback (most recent call last)",
            "\u001b[0;32m<ipython-input-87-02f26873e607>\u001b[0m in \u001b[0;36m<module>\u001b[0;34m()\u001b[0m\n\u001b[1;32m      1\u001b[0m \u001b[0;32mimport\u001b[0m \u001b[0mrandom\u001b[0m\u001b[0;34m\u001b[0m\u001b[0;34m\u001b[0m\u001b[0m\n\u001b[0;32m----> 2\u001b[0;31m \u001b[0ma\u001b[0m\u001b[0;34m[\u001b[0m\u001b[0;36m1\u001b[0m\u001b[0;34m,\u001b[0m\u001b[0;36m4\u001b[0m\u001b[0;34m,\u001b[0m\u001b[0;36m2\u001b[0m\u001b[0;34m,\u001b[0m\u001b[0;36m5\u001b[0m\u001b[0;34m,\u001b[0m\u001b[0;36m6\u001b[0m\u001b[0;34m,\u001b[0m\u001b[0;36m9\u001b[0m\u001b[0;34m,\u001b[0m\u001b[0;36m8\u001b[0m\u001b[0;34m,\u001b[0m\u001b[0;36m33\u001b[0m\u001b[0;34m,\u001b[0m\u001b[0;36m4\u001b[0m\u001b[0;34m,\u001b[0m\u001b[0;36m25\u001b[0m\u001b[0;34m,\u001b[0m\u001b[0;36m14\u001b[0m\u001b[0;34m,\u001b[0m\u001b[0;36m26\u001b[0m\u001b[0;34m,\u001b[0m\u001b[0;36m47\u001b[0m\u001b[0;34m]\u001b[0m\u001b[0;34m\u001b[0m\u001b[0;34m\u001b[0m\u001b[0m\n\u001b[0m\u001b[1;32m      3\u001b[0m \u001b[0mavg\u001b[0m \u001b[0;34m=\u001b[0m \u001b[0;34m(\u001b[0m\u001b[0msum\u001b[0m\u001b[0;34m(\u001b[0m\u001b[0ma\u001b[0m\u001b[0;34m)\u001b[0m\u001b[0;34m/\u001b[0m\u001b[0mlen\u001b[0m\u001b[0;34m(\u001b[0m\u001b[0ma\u001b[0m\u001b[0;34m)\u001b[0m\u001b[0;34m)\u001b[0m\u001b[0;34m\u001b[0m\u001b[0;34m\u001b[0m\u001b[0m\n\u001b[1;32m      4\u001b[0m \u001b[0mprint\u001b[0m\u001b[0;34m(\u001b[0m\u001b[0;34m\"The average is \"\u001b[0m\u001b[0;34m,\u001b[0m\u001b[0;34m)\u001b[0m\u001b[0;34m\u001b[0m\u001b[0;34m\u001b[0m\u001b[0m\n",
            "\u001b[0;31mTypeError\u001b[0m: list indices must be integers or slices, not tuple"
          ]
        }
      ]
    }
  ]
}