{
  "nbformat": 4,
  "nbformat_minor": 0,
  "metadata": {
    "colab": {
      "name": "Untitled15.ipynb",
      "provenance": [],
      "authorship_tag": "ABX9TyPltKWc5Lz2J7hHBSbq8t8f",
      "include_colab_link": true
    },
    "kernelspec": {
      "name": "python3",
      "display_name": "Python 3"
    }
  },
  "cells": [
    {
      "cell_type": "markdown",
      "metadata": {
        "id": "view-in-github",
        "colab_type": "text"
      },
      "source": [
        "<a href=\"https://colab.research.google.com/github/Jatin666/py-assignment/blob/master/day%2014%20cad.ipynb\" target=\"_parent\"><img src=\"https://colab.research.google.com/assets/colab-badge.svg\" alt=\"Open In Colab\"/></a>"
      ]
    },
    {
      "cell_type": "code",
      "metadata": {
        "id": "1PX1ZGEn5I1P",
        "colab_type": "code",
        "outputId": "899de778-d9fd-42f6-e7e1-6d876a76a6f7",
        "colab": {
          "base_uri": "https://localhost:8080/",
          "height": 128
        }
      },
      "source": [
        "##Ask the user to input- Name, Phone Number and Email id . Once Details are taken insert the details in a list and print the list.\n",
        "a=input(\"enter the name : \")\n",
        "b=int(input(\"enter the number : \")\n",
        "c=input(\"enter the email.id : \")\n",
        "d=[]\n",
        "e=a+b+c\n",
        "f=d.append(e)\n",
        "print(f)"
      ],
      "execution_count": 0,
      "outputs": [
        {
          "output_type": "error",
          "ename": "SyntaxError",
          "evalue": "ignored",
          "traceback": [
            "\u001b[0;36m  File \u001b[0;32m\"<ipython-input-2-0b00c9635fe1>\"\u001b[0;36m, line \u001b[0;32m3\u001b[0m\n\u001b[0;31m    g=input(\"enter the email.id : \")\u001b[0m\n\u001b[0m    ^\u001b[0m\n\u001b[0;31mSyntaxError\u001b[0m\u001b[0;31m:\u001b[0m invalid syntax\n"
          ]
        }
      ]
    },
    {
      "cell_type": "code",
      "metadata": {
        "id": "yhBpbNId6d3p",
        "colab_type": "code",
        "outputId": "08265859-300a-4e7b-b3bb-f6e713678206",
        "colab": {
          "base_uri": "https://localhost:8080/",
          "height": 54
        }
      },
      "source": [
        "## Write a program that generates a list L of 50 random numbers between 1 and 100. \n",
        "import random\n",
        "start=0\n",
        "end=\" \"\n",
        "empty=[]\n",
        "for i in range(50):\n",
        "  computer=random.randint(0,100)\n",
        "  empty.append(computer)\n",
        "print(empty)"
      ],
      "execution_count": 44,
      "outputs": [
        {
          "output_type": "stream",
          "text": [
            "[33, 40, 66, 82, 5, 27, 43, 95, 17, 98, 27, 35, 92, 63, 80, 67, 3, 80, 80, 23, 32, 29, 10, 8, 35, 9, 52, 20, 91, 77, 1, 67, 57, 40, 90, 14, 68, 39, 69, 62, 86, 92, 24, 4, 44, 5, 14, 87, 12, 88]\n"
          ],
          "name": "stdout"
        }
      ]
    },
    {
      "cell_type": "code",
      "metadata": {
        "id": "UEcZlkrP8-8K",
        "colab_type": "code",
        "colab": {}
      },
      "source": [
        "##write a program that ask the user to enter a list of integer. do the following\n",
        "##print the total number of items in the list\n",
        "##print the last item in the list\n",
        "##print the list in reverse order\n",
        "##print yes if list contains 5 otherwise NO\n",
        "##print the number of 5 in the list\n",
        "##remove the first and last item in the list and sort the remaining item and print the list\n",
        "##print how many integers are less than 5\n",
        "\n",
        "a=['jatin','diksha','nabieu','pankaj']\n",
        "print(len(a)) \n"
      ],
      "execution_count": 0,
      "outputs": []
    },
    {
      "cell_type": "code",
      "metadata": {
        "id": "4PrPND8B_yUp",
        "colab_type": "code",
        "outputId": "18259a81-a8b2-4aa4-d6cf-28b614cff7eb",
        "colab": {
          "base_uri": "https://localhost:8080/",
          "height": 34
        }
      },
      "source": [
        "##print the last item in the list\n",
        "a=['jatin','diksha','nabieu','pankaj']\n",
        "print(a[-1])"
      ],
      "execution_count": 0,
      "outputs": [
        {
          "output_type": "stream",
          "text": [
            "pankaj\n"
          ],
          "name": "stdout"
        }
      ]
    },
    {
      "cell_type": "code",
      "metadata": {
        "id": "RpD1Sckd_7BY",
        "colab_type": "code",
        "outputId": "e592385d-0516-48fc-c74e-cc6540b4eb20",
        "colab": {
          "base_uri": "https://localhost:8080/",
          "height": 34
        }
      },
      "source": [
        "##print the list in reverse order\n",
        "a=['jatin','diksha','nabieu','pankaj']\n",
        "print(a[::-1])"
      ],
      "execution_count": 0,
      "outputs": [
        {
          "output_type": "stream",
          "text": [
            "['pankaj', 'nabieu', 'diksha', 'jatin']\n"
          ],
          "name": "stdout"
        }
      ]
    },
    {
      "cell_type": "code",
      "metadata": {
        "id": "3dAIxpNBAKiV",
        "colab_type": "code",
        "outputId": "94f08147-6747-4550-af81-4599828ecc13",
        "colab": {
          "base_uri": "https://localhost:8080/",
          "height": 34
        }
      },
      "source": [
        "##print yes if list contains 5 otherwise NO\n",
        "a=['jatin','diksha','nabieu','pankaj',5]\n",
        "if items in a is 5:\n",
        "  print(\"yes\")\n",
        "else:\n",
        "  print(\"no\")"
      ],
      "execution_count": 0,
      "outputs": [
        {
          "output_type": "stream",
          "text": [
            "no\n"
          ],
          "name": "stdout"
        }
      ]
    },
    {
      "cell_type": "code",
      "metadata": {
        "id": "OfBtXC_xBf9u",
        "colab_type": "code",
        "colab": {}
      },
      "source": [
        "##print the number of 5 in the list"
      ],
      "execution_count": 0,
      "outputs": []
    },
    {
      "cell_type": "code",
      "metadata": {
        "id": "CUPwzkEyBsbI",
        "colab_type": "code",
        "outputId": "aadce96b-fb43-40c1-d64e-ccfcdc713411",
        "colab": {
          "base_uri": "https://localhost:8080/",
          "height": 84
        }
      },
      "source": [
        "##remove the first and last item in the list and sort the remaining item and print the list\n",
        "a=[1,4,7,2,6,3,5]\n",
        "print(a)\n",
        "print(\"after removing first and last item\")\n",
        "del a[0],a[-1]\n",
        "print(\"unsorted list :\"+str(a))\n",
        "a.sort()\n",
        "print(\"sorted list : \"+str(a))"
      ],
      "execution_count": 0,
      "outputs": [
        {
          "output_type": "stream",
          "text": [
            "[1, 4, 7, 2, 6, 3, 5]\n",
            "after removing first and last item\n",
            "unsorted list :[4, 7, 2, 6, 3]\n",
            "sorted list : [2, 3, 4, 6, 7]\n"
          ],
          "name": "stdout"
        }
      ]
    },
    {
      "cell_type": "code",
      "metadata": {
        "id": "_cXuL8Z1EoKo",
        "colab_type": "code",
        "outputId": "21999ee3-4406-419f-d12a-13cc8582595b",
        "colab": {
          "base_uri": "https://localhost:8080/",
          "height": 67
        }
      },
      "source": [
        "##print how many integers are less than 5\n",
        "a=[1,7,2,6,3]\n",
        "b=5\n",
        "count=0\n",
        "for item in a:\n",
        "  if item<b:\n",
        "    count=count + 1\n",
        "    print(\"less than 5 are\"+str(count))"
      ],
      "execution_count": 0,
      "outputs": [
        {
          "output_type": "stream",
          "text": [
            "less than 5 are1\n",
            "less than 5 are2\n",
            "less than 5 are3\n"
          ],
          "name": "stdout"
        }
      ]
    },
    {
      "cell_type": "code",
      "metadata": {
        "id": "SI-JUGY4HTaC",
        "colab_type": "code",
        "outputId": "88e53660-b73d-44f0-cb0e-844d060f6619",
        "colab": {
          "base_uri": "https://localhost:8080/",
          "height": 34
        }
      },
      "source": [
        "##write a program that generate a list of 20 random numbers between 1 and 100.\n",
        "##print the list\n",
        "##print the average of the element in the list\n",
        "##print the largest and smallest value in the list\n",
        "##print the second largest and second smallest entries in the list\n",
        "##print how many even numbers are in the list\n",
        "\n",
        "import random\n",
        "start=0\n",
        "end=\" \"\n",
        "empty=[]\n",
        "for i in range(20):\n",
        "  computer=random.randint(0, 100)\n",
        "  empty.append(computer)\n",
        "print(empty)"
      ],
      "execution_count": 39,
      "outputs": [
        {
          "output_type": "stream",
          "text": [
            "[73, 85, 38, 80, 14, 1, 50, 62, 95, 19, 82, 69, 26, 31, 91, 43, 92, 82, 0, 51]\n"
          ],
          "name": "stdout"
        }
      ]
    },
    {
      "cell_type": "code",
      "metadata": {
        "id": "PsDBtomKLNpn",
        "colab_type": "code",
        "outputId": "2f76a949-0beb-4657-be55-5a67546173c9",
        "colab": {
          "base_uri": "https://localhost:8080/",
          "height": 34
        }
      },
      "source": [
        "##print the average of the element in the list\n",
        "import random\n",
        "a=[1,4,2,5,6,9,8,33,4,25,14,26,47]\n",
        "avg = (sum(a)/len(a))\n",
        "print(\"The average is \",str(avg))"
      ],
      "execution_count": 41,
      "outputs": [
        {
          "output_type": "stream",
          "text": [
            "The average is  14.153846153846153\n"
          ],
          "name": "stdout"
        }
      ]
    },
    {
      "cell_type": "code",
      "metadata": {
        "id": "Eo7bkxUvMZZJ",
        "colab_type": "code",
        "colab": {
          "base_uri": "https://localhost:8080/",
          "height": 84
        },
        "outputId": "fc6571ce-fba7-4446-da55-a2e53e1d1180"
      },
      "source": [
        "##print the largest and smallest value in the list\n",
        "a=[1,4,2,5,6,9,8,33,4,25,14,26,47]\n",
        "print(a)\n",
        "a.sort()\n",
        "print(a)\n",
        "print(\"the largest value is \"+ str(a[-1]))\n",
        "print(\"the smallest value is \"+str(a[0]))"
      ],
      "execution_count": 16,
      "outputs": [
        {
          "output_type": "stream",
          "text": [
            "[1, 4, 2, 5, 6, 9, 8, 33, 4, 25, 14, 26, 47]\n",
            "[1, 2, 4, 4, 5, 6, 8, 9, 14, 25, 26, 33, 47]\n",
            "the largest value is 47\n",
            "the smallest value is 1\n"
          ],
          "name": "stdout"
        }
      ]
    },
    {
      "cell_type": "code",
      "metadata": {
        "id": "M63NxQBYNpzh",
        "colab_type": "code",
        "colab": {
          "base_uri": "https://localhost:8080/",
          "height": 84
        },
        "outputId": "c3c99fac-7e1c-4830-ab8f-7378b179a456"
      },
      "source": [
        "##print the second largest and second smallest entries in the list\n",
        "a=[1,4,2,5,6,9,8,33,4,25,14,26,47]\n",
        "print (a)\n",
        "a.sort()\n",
        "print(a)\n",
        "print(\"the second largest number is \"+str(a[-2]))\n",
        "print(\"the second smallest number is :\"+str(a[1]))"
      ],
      "execution_count": 15,
      "outputs": [
        {
          "output_type": "stream",
          "text": [
            "[1, 4, 2, 5, 6, 9, 8, 33, 4, 25, 14, 26, 47]\n",
            "[1, 2, 4, 4, 5, 6, 8, 9, 14, 25, 26, 33, 47]\n",
            "the second largest number is 33\n",
            "the second smallest number is :2\n"
          ],
          "name": "stdout"
        }
      ]
    },
    {
      "cell_type": "code",
      "metadata": {
        "id": "9-y9q1PTO2wi",
        "colab_type": "code",
        "colab": {
          "base_uri": "https://localhost:8080/",
          "height": 151
        },
        "outputId": "4eb69264-37ad-4cea-f18e-ff69bab98723"
      },
      "source": [
        "##print how many even numbers are in the list\n",
        "a=[1,4,2,5,6,9,8,33,4,25,14,26,47]\n",
        "print(a)\n",
        "for i in a:\n",
        "  if i %2 ==0:\n",
        "    print(i)\n"
      ],
      "execution_count": 29,
      "outputs": [
        {
          "output_type": "stream",
          "text": [
            "[1, 4, 2, 5, 6, 9, 8, 33, 4, 25, 14, 26, 47]\n",
            "4\n",
            "2\n",
            "6\n",
            "8\n",
            "4\n",
            "14\n",
            "26\n"
          ],
          "name": "stdout"
        }
      ]
    }
  ]
}