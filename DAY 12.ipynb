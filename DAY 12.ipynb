{
  "nbformat": 4,
  "nbformat_minor": 0,
  "metadata": {
    "colab": {
      "name": "Untitled13.ipynb",
      "provenance": [],
      "collapsed_sections": [],
      "authorship_tag": "ABX9TyPu7lrc7U/yA9G+w2PAIAwD",
      "include_colab_link": true
    },
    "kernelspec": {
      "name": "python2",
      "display_name": "Python 2"
    }
  },
  "cells": [
    {
      "cell_type": "markdown",
      "metadata": {
        "id": "view-in-github",
        "colab_type": "text"
      },
      "source": [
        "<a href=\"https://colab.research.google.com/github/Jatin666/py-assignment/blob/master/DAY%2012.ipynb\" target=\"_parent\"><img src=\"https://colab.research.google.com/assets/colab-badge.svg\" alt=\"Open In Colab\"/></a>"
      ]
    },
    {
      "cell_type": "markdown",
      "metadata": {
        "id": "Q1qcS2fjt2YW",
        "colab_type": "text"
      },
      "source": [
        "**DAY 12**"
      ]
    },
    {
      "cell_type": "code",
      "metadata": {
        "id": "qTgORb7UEP_6",
        "colab_type": "code",
        "colab": {}
      },
      "source": [
        "##write a program that ask the user to enter the string . the program should then print the following \n",
        "##the total number of character in the string\n",
        "##the string repeated 10 times\n",
        "##the first character of the string (remember the string indices start at 0)\n",
        "##the first three character of the string\n",
        "##the last three character of the string\n",
        "##the string backward\n",
        "##the seventh character of the string if the string is long enough and a message otherwise\n",
        "##the string with its first and last character\n",
        "##the string in all caps\n",
        "##the string with a replaced with e\n",
        "a=input(\"Enter the string: \")\n",
        "for i in range(1):\n",
        "  print(len(a))\n"
      ],
      "execution_count": 0,
      "outputs": []
    },
    {
      "cell_type": "code",
      "metadata": {
        "id": "2T0ubg6RJ8bu",
        "colab_type": "code",
        "colab": {}
      },
      "source": [
        "##string repeated 10 times\n",
        "a=input(\"Enter the string: \")\n",
        "for i in range(11):\n",
        "  print(a)"
      ],
      "execution_count": 0,
      "outputs": []
    },
    {
      "cell_type": "code",
      "metadata": {
        "id": "4Ooj-8xVKIhj",
        "colab_type": "code",
        "colab": {}
      },
      "source": [
        "##the first character of the string (remember the string indices start at 0)\n",
        "a=input(\"Enter the string: \")\n",
        "print(a[0])"
      ],
      "execution_count": 0,
      "outputs": []
    },
    {
      "cell_type": "code",
      "metadata": {
        "id": "2-xhQEUHK7Bz",
        "colab_type": "code",
        "colab": {}
      },
      "source": [
        "##the first three character of the string\n",
        "a = input(\"enter the string \")\n",
        "for i in range(0, 3):\n",
        "  print(a[i])"
      ],
      "execution_count": 0,
      "outputs": []
    },
    {
      "cell_type": "code",
      "metadata": {
        "id": "pa_l2JGgLiN-",
        "colab_type": "code",
        "colab": {}
      },
      "source": [
        "##the last three character of the string\n",
        "a = input(\"enter the string \")\n",
        "print(a[-3:])"
      ],
      "execution_count": 0,
      "outputs": []
    },
    {
      "cell_type": "code",
      "metadata": {
        "id": "Av4O-E0vSi_Y",
        "colab_type": "code",
        "colab": {}
      },
      "source": [
        "##the string backward\n",
        "a = input(\"enter the string \")\n",
        "print(a[::-1])"
      ],
      "execution_count": 0,
      "outputs": []
    },
    {
      "cell_type": "code",
      "metadata": {
        "id": "r4HxwcdpTbjw",
        "colab_type": "code",
        "colab": {}
      },
      "source": [
        "##the seventh character of the string if the string is long enough and a message otherwise\n",
        "a = input(\"enter a string: \")\n",
        "b=len(a)\n",
        "if(b<=7):\n",
        "    print(a)\n",
        "else:\n",
        "    print(\"string is too long\")"
      ],
      "execution_count": 0,
      "outputs": []
    },
    {
      "cell_type": "code",
      "metadata": {
        "id": "8cTofxZZaA4N",
        "colab_type": "code",
        "colab": {}
      },
      "source": [
        "##the string with its first and last character\n",
        "a = input(\"enter the string \")\n",
        "print(a[0])\n",
        "print(a[-1])"
      ],
      "execution_count": 0,
      "outputs": []
    },
    {
      "cell_type": "code",
      "metadata": {
        "id": "slrQ7wgebLEv",
        "colab_type": "code",
        "colab": {}
      },
      "source": [
        "##the string in all caps\n",
        "a = input(\"enter the string \")\n",
        "print(a.upper())"
      ],
      "execution_count": 0,
      "outputs": []
    },
    {
      "cell_type": "code",
      "metadata": {
        "id": "jB_9cOD0b2iC",
        "colab_type": "code",
        "colab": {}
      },
      "source": [
        "##the string with a replaced with e\n",
        "a=input(\"enter the string \")\n",
        "print(a.replace(\"a\",\"e\"))"
      ],
      "execution_count": 0,
      "outputs": []
    },
    {
      "cell_type": "code",
      "metadata": {
        "id": "9Ulg2fA_eU61",
        "colab_type": "code",
        "colab": {}
      },
      "source": [
        "##Write a program that asks the user to enter a word and determines whether the word is a palindrome or not.\n",
        "a = input(\"enter the string \")\n",
        "if a[0]==a[-1]:\n",
        "  if a[1]==a[-2]:\n",
        "    print(\"correct\")\n",
        "else:\n",
        "  print(\"incorrect\")"
      ],
      "execution_count": 0,
      "outputs": []
    },
    {
      "cell_type": "code",
      "metadata": {
        "id": "Hxo9Apx6hfDs",
        "colab_type": "code",
        "colab": {}
      },
      "source": [
        "##write a program that asks the user to enter a string, then print out each letter of the string doubled and on a seprate line.\n",
        "##for instance, if the user entered HEY, the ouput would be\n",
        "##hh\n",
        "##ee\n",
        "##yy\n",
        "a= input(\"enter the string\")\n",
        "for i in range(0,len(a)):\n",
        "  print(a[i]*2)"
      ],
      "execution_count": 0,
      "outputs": []
    },
    {
      "cell_type": "code",
      "metadata": {
        "id": "z_y7zvaUmLig",
        "colab_type": "code",
        "colab": {}
      },
      "source": [
        "##Write a program that asks the user for a large integer and inserts commas into it according to the standard American convention for commas in large numbers.\n",
        "##For instance, if the user enters 1000000, the output should be 1,000,000.( Try for India format 10,00000)\n",
        "a=input(\"enter the integer : \")\n",
        "\n"
      ],
      "execution_count": 0,
      "outputs": []
    },
    {
      "cell_type": "code",
      "metadata": {
        "id": "l1R7G5r5sJIA",
        "colab_type": "code",
        "colab": {}
      },
      "source": [
        "##In calculus, the derivative of x4 is 4x3. The derivative of x5 is 5x4. The derivative of x6 is 6x5. This pattern continues.\n",
        "##Write a program that asks the user for input like x^3 or x^25 and prints the derivative. \n",
        "##For example, if the user enters x^3, the program should print out 3x^2"
      ],
      "execution_count": 0,
      "outputs": []
    }
  ]
}