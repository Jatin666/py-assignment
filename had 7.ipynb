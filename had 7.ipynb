{
  "nbformat": 4,
  "nbformat_minor": 0,
  "metadata": {
    "colab": {
      "name": "Untitled10.ipynb",
      "provenance": [],
      "collapsed_sections": [],
      "authorship_tag": "ABX9TyPU2OjPz3c4ZbCwRGHqT0Ua",
      "include_colab_link": true
    },
    "kernelspec": {
      "name": "python3",
      "display_name": "Python 3"
    }
  },
  "cells": [
    {
      "cell_type": "markdown",
      "metadata": {
        "id": "view-in-github",
        "colab_type": "text"
      },
      "source": [
        "<a href=\"https://colab.research.google.com/github/Jatin666/py-assignment/blob/master/had%207.ipynb\" target=\"_parent\"><img src=\"https://colab.research.google.com/assets/colab-badge.svg\" alt=\"Open In Colab\"/></a>"
      ]
    },
    {
      "cell_type": "code",
      "metadata": {
        "id": "AOtF7gQ47-nd",
        "colab_type": "code",
        "colab": {}
      },
      "source": [
        ""
      ],
      "execution_count": 0,
      "outputs": []
    },
    {
      "cell_type": "markdown",
      "metadata": {
        "id": "NLK7D_OF7__N",
        "colab_type": "text"
      },
      "source": [
        "**DAY7**\n"
      ]
    },
    {
      "cell_type": "code",
      "metadata": {
        "id": "Zmr_C-Tr8FnC",
        "colab_type": "code",
        "outputId": "26c8f8f1-2fa9-4e7d-acc9-fbc3e9d85233",
        "colab": {
          "base_uri": "https://localhost:8080/",
          "height": 34
        }
      },
      "source": [
        "##Write a program that computes and prints the result of 512 − 282/47 · 48 + 5. (It is roughly .1017)\n",
        "a=512\n",
        "b=282\n",
        "c=47\n",
        "d=48\n",
        "e=5\n",
        "print((a-b)/(c*(d+e)))"
      ],
      "execution_count": 0,
      "outputs": [
        {
          "output_type": "stream",
          "text": [
            "0.0923323966278603\n"
          ],
          "name": "stdout"
        }
      ]
    },
    {
      "cell_type": "code",
      "metadata": {
        "id": "MP1_mZlO9vl4",
        "colab_type": "code",
        "outputId": "9d027b88-5d4e-4660-cfd1-c8a42eafe1dc",
        "colab": {
          "base_uri": "https://localhost:8080/",
          "height": 50
        }
      },
      "source": [
        "##write a program that ask the user to enter the number. print out the square but use the optional argument to print it out in a full sentence . enter the number: 5\n",
        "##the square of 5 is 25\n",
        "a=int(input(\"Enter the number : \"))\n",
        "print(\"the square of \"+ str(a)+\" is \"+str(a**2))"
      ],
      "execution_count": 0,
      "outputs": [
        {
          "output_type": "stream",
          "text": [
            "Enter the number : 4\n",
            "the square of 4 is 16\n"
          ],
          "name": "stdout"
        }
      ]
    },
    {
      "cell_type": "code",
      "metadata": {
        "id": "DLTmOqJi_dCg",
        "colab_type": "code",
        "outputId": "1506f6ee-808c-4582-fc3a-1f8a784b0671",
        "colab": {
          "base_uri": "https://localhost:8080/",
          "height": 50
        }
      },
      "source": [
        "##write a program that ask the user to enter a number x and then use the sep optional argument to print out 2x 3x 4x each should be seprated with 3 dashes\n",
        "a=int(input(\"Enter the number : \"))\n",
        "print(str(a)+\"---\"+str(2*a)+\"---\"+str(3*a)+\"---\"+str(4*a)+\"---\"+str(5*a))"
      ],
      "execution_count": 0,
      "outputs": [
        {
          "output_type": "stream",
          "text": [
            "Enter the number : 4\n",
            "4---8---12---16---20\n"
          ],
          "name": "stdout"
        }
      ]
    },
    {
      "cell_type": "code",
      "metadata": {
        "id": "U9bJpICCBqsI",
        "colab_type": "code",
        "outputId": "9ac92138-9a76-47cc-a91c-7f4462a72e79",
        "colab": {
          "base_uri": "https://localhost:8080/",
          "height": 50
        }
      },
      "source": [
        "##. Write a program that asks the user for a weight in kilograms and converts it to pounds. There are 2.2 pounds in a kilogram. \n",
        "a=int(input(\"enter the weight in kilogram : \"))\n",
        "b=a*2.2\n",
        "print(\"there are 2.2 pounds in a kilogram \"+str(b))"
      ],
      "execution_count": 0,
      "outputs": [
        {
          "output_type": "stream",
          "text": [
            "enter the weight in kilogram : 4\n",
            "there are 2.2 pounds in a kilogram 8.8\n"
          ],
          "name": "stdout"
        }
      ]
    },
    {
      "cell_type": "code",
      "metadata": {
        "id": "p7CdjtUVCnka",
        "colab_type": "code",
        "outputId": "b1674b7a-d75b-42b0-fa03-3e13c936a928",
        "colab": {
          "base_uri": "https://localhost:8080/",
          "height": 101
        }
      },
      "source": [
        "##Write a program that asks the user to enter three numbers (use three separate input state- ments). Create variables called total\n",
        "## and average that hold the sum and average of the three numbers and print out the values of total and average\n",
        "a=int(input(\"enter the first number \"))\n",
        "b=int(input(\"enter the second number \"))\n",
        "c=int(input(\"enter the third number \"))\n",
        "f=(a+b+c)\n",
        "print(\"the sum of 1st 2nd 3rd is \"+str(f))\n",
        "d=(a+b+c)/3\n",
        "print(\" average is : \"+str(d))"
      ],
      "execution_count": 0,
      "outputs": [
        {
          "output_type": "stream",
          "text": [
            "enter the first number2\n",
            "enter the second number2\n",
            "enter the third number2\n",
            "the sum of 1st 2nd 3rd is 6\n",
            "the sum of a b c and their average is : 2.0\n"
          ],
          "name": "stdout"
        }
      ]
    },
    {
      "cell_type": "code",
      "metadata": {
        "id": "e3HvgNcHFBph",
        "colab_type": "code",
        "outputId": "42c664cc-fe64-45b5-a6c2-52df05c4a427",
        "colab": {
          "base_uri": "https://localhost:8080/",
          "height": 67
        }
      },
      "source": [
        "##A lot of cell phones have tip calculators. Write one. Ask the user for the price of the meal and the percent tip they want to leave.\n",
        "## Then print both the tip amount and the total bill with the tip included.\n",
        "a=int(input(\"enter the rate of the meal\"))\n",
        "b=int(input(\"enter the percent tip\"))\n",
        "c=a*(b)/100\n",
        "print(c)"
      ],
      "execution_count": 0,
      "outputs": [
        {
          "output_type": "stream",
          "text": [
            "enter the rate of the meal500\n",
            "enter the percent tip5\n",
            "25.0\n"
          ],
          "name": "stdout"
        }
      ]
    }
  ]
}