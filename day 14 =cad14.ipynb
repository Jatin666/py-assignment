{
  "nbformat": 4,
  "nbformat_minor": 0,
  "metadata": {
    "colab": {
      "name": "Untitled16.ipynb",
      "provenance": [],
      "authorship_tag": "ABX9TyOGb4iYHSmojvMmy1t1VaYd",
      "include_colab_link": true
    },
    "kernelspec": {
      "name": "python3",
      "display_name": "Python 3"
    }
  },
  "cells": [
    {
      "cell_type": "markdown",
      "metadata": {
        "id": "view-in-github",
        "colab_type": "text"
      },
      "source": [
        "<a href=\"https://colab.research.google.com/github/Jatin666/py-assignment/blob/master/day%2014%20%3Dcad14.ipynb\" target=\"_parent\"><img src=\"https://colab.research.google.com/assets/colab-badge.svg\" alt=\"Open In Colab\"/></a>"
      ]
    },
    {
      "cell_type": "code",
      "metadata": {
        "id": "UROOskSBNLhI",
        "colab_type": "code",
        "outputId": "7a88243f-3bde-4589-a096-8ff6afce5358",
        "colab": {
          "base_uri": "https://localhost:8080/",
          "height": 134
        }
      },
      "source": [
        " ##Write a Python program to create a tuple with different data types.\n",
        " print(\"creating a tuple with strings\")\n",
        " string=('Diksha','Jatin','Pankaj','nabieu')\n",
        " print(\"creating a tuple with integer\")\n",
        " string2=(1,2,3,4)\n",
        " print(\"creating a string with float\\n\")\n",
        " string3=(3.14,2.57,254.20,12.3)\n",
        " print(string)\n",
        " print(string2)\n",
        " print(string3)"
      ],
      "execution_count": 0,
      "outputs": [
        {
          "output_type": "stream",
          "text": [
            "creating a tuple with strings\n",
            "creating a tuple with integer\n",
            "creating a string with float\n",
            "\n",
            "('Diksha', 'Jatin', 'Pankaj', 'nabieu')\n",
            "(1, 2, 3, 4)\n",
            "(3.14, 2.57, 254.2, 12.3)\n"
          ],
          "name": "stdout"
        }
      ]
    },
    {
      "cell_type": "code",
      "metadata": {
        "id": "_OiSYq63RdTL",
        "colab_type": "code",
        "outputId": "bf958a98-2c1a-4afe-d7ce-703ddbb06207",
        "colab": {
          "base_uri": "https://localhost:8080/",
          "height": 34
        }
      },
      "source": [
        "##Write a Python program to add an item in a tuple.\n",
        "string=('Diksha','Jatin','Pankaj','nabieu')\n",
        "a='hitesh'\n",
        "b=string + (a,)\n",
        "print(b)"
      ],
      "execution_count": 0,
      "outputs": [
        {
          "output_type": "stream",
          "text": [
            "('Diksha', 'Jatin', 'Pankaj', 'nabieu', 'hitesh')\n"
          ],
          "name": "stdout"
        }
      ]
    },
    {
      "cell_type": "code",
      "metadata": {
        "id": "Gu2Os8J0Tfd-",
        "colab_type": "code",
        "outputId": "26310d54-e8b7-497c-bbb2-a0a94afe6c9e",
        "colab": {
          "base_uri": "https://localhost:8080/",
          "height": 34
        }
      },
      "source": [
        "##Write a Python program to convert a tuple to a string.\n",
        "tuples=('h','i','i')\n",
        "a=()\n",
        "c= a+(tuples,)\n",
        "print(c)\n"
      ],
      "execution_count": 16,
      "outputs": [
        {
          "output_type": "stream",
          "text": [
            "(('h', 'i', 'i'),)\n"
          ],
          "name": "stdout"
        }
      ]
    },
    {
      "cell_type": "code",
      "metadata": {
        "id": "eR2fhwJ7U_-y",
        "colab_type": "code",
        "outputId": "273588a6-6928-448c-d438-7990ce230d54",
        "colab": {
          "base_uri": "https://localhost:8080/",
          "height": 34
        }
      },
      "source": [
        " ##Write a Python program to find the length of a tuple\n",
        " string=('Diksha','Jatin','Pankaj','nabieu')\n",
        " print(len(string))"
      ],
      "execution_count": 0,
      "outputs": [
        {
          "output_type": "stream",
          "text": [
            "4\n"
          ],
          "name": "stdout"
        }
      ]
    },
    {
      "cell_type": "code",
      "metadata": {
        "id": "lv20IuQvVJkN",
        "colab_type": "code",
        "outputId": "735e0f13-b15c-452e-a131-b4be0fbfdbe1",
        "colab": {
          "base_uri": "https://localhost:8080/",
          "height": 34
        }
      },
      "source": [
        "## Write a Python program to reverse a tuple\n",
        " string=('Diksha','Jatin','Pankaj','nabieu')\n",
        "print(string[::-1])"
      ],
      "execution_count": 0,
      "outputs": [
        {
          "output_type": "stream",
          "text": [
            "('nabieu', 'Pankaj', 'Jatin', 'Diksha')\n"
          ],
          "name": "stdout"
        }
      ]
    },
    {
      "cell_type": "code",
      "metadata": {
        "id": "KhXif-U_VckZ",
        "colab_type": "code",
        "outputId": "3c75d03b-a525-4f1e-9a92-2bf9ffd65bf0",
        "colab": {
          "base_uri": "https://localhost:8080/",
          "height": 266
        }
      },
      "source": [
        "##Create a tuple of 50 random numbers from 1-25. Ask the user to input any no. from 1-25 and check the count of that particular number in your tuple\n",
        "import random\n",
        "count=0\n",
        "end=\" \"\n",
        "empty=()\n",
        "for i in range(50):\n",
        "  computer=random.randint(1,25)\n",
        "  empty=empty+((computer),)\n",
        "print(empty,end=\" \")\n",
        "a=input(\"enter any number from 1-25\")\n",
        "if number in empty:\n",
        "  count = empty.count(a)\n",
        "  print(\"the count is :\"+str(count))\n",
        "  count=+1\n"
      ],
      "execution_count": 1,
      "outputs": [
        {
          "output_type": "stream",
          "text": [
            "(8, 25, 20, 11, 22, 19, 10, 7, 19, 13, 15, 20, 22, 12, 13, 10, 25, 8, 25, 3, 13, 7, 25, 21, 20, 12, 10, 5, 25, 17, 6, 1, 13, 11, 20, 10, 8, 3, 17, 4, 12, 2, 15, 17, 8, 12, 10, 13, 1, 10) enter any number from 1-2514\n"
          ],
          "name": "stdout"
        },
        {
          "output_type": "error",
          "ename": "NameError",
          "evalue": "ignored",
          "traceback": [
            "\u001b[0;31m---------------------------------------------------------------------------\u001b[0m",
            "\u001b[0;31mNameError\u001b[0m                                 Traceback (most recent call last)",
            "\u001b[0;32m<ipython-input-1-14de163ca906>\u001b[0m in \u001b[0;36m<module>\u001b[0;34m()\u001b[0m\n\u001b[1;32m      8\u001b[0m \u001b[0mprint\u001b[0m\u001b[0;34m(\u001b[0m\u001b[0mempty\u001b[0m\u001b[0;34m,\u001b[0m\u001b[0mend\u001b[0m\u001b[0;34m=\u001b[0m\u001b[0;34m\" \"\u001b[0m\u001b[0;34m)\u001b[0m\u001b[0;34m\u001b[0m\u001b[0;34m\u001b[0m\u001b[0m\n\u001b[1;32m      9\u001b[0m \u001b[0ma\u001b[0m\u001b[0;34m=\u001b[0m\u001b[0minput\u001b[0m\u001b[0;34m(\u001b[0m\u001b[0;34m\"enter any number from 1-25\"\u001b[0m\u001b[0;34m)\u001b[0m\u001b[0;34m\u001b[0m\u001b[0;34m\u001b[0m\u001b[0m\n\u001b[0;32m---> 10\u001b[0;31m \u001b[0;32mif\u001b[0m \u001b[0mnumber\u001b[0m \u001b[0;32min\u001b[0m \u001b[0mempty\u001b[0m\u001b[0;34m:\u001b[0m\u001b[0;34m\u001b[0m\u001b[0;34m\u001b[0m\u001b[0m\n\u001b[0m\u001b[1;32m     11\u001b[0m   \u001b[0mcount\u001b[0m \u001b[0;34m=\u001b[0m \u001b[0mempty\u001b[0m\u001b[0;34m.\u001b[0m\u001b[0mcount\u001b[0m\u001b[0;34m(\u001b[0m\u001b[0ma\u001b[0m\u001b[0;34m)\u001b[0m\u001b[0;34m\u001b[0m\u001b[0;34m\u001b[0m\u001b[0m\n\u001b[1;32m     12\u001b[0m   \u001b[0mprint\u001b[0m\u001b[0;34m(\u001b[0m\u001b[0;34m\"the count is :\"\u001b[0m\u001b[0;34m+\u001b[0m\u001b[0mstr\u001b[0m\u001b[0;34m(\u001b[0m\u001b[0mcount\u001b[0m\u001b[0;34m)\u001b[0m\u001b[0;34m)\u001b[0m\u001b[0;34m\u001b[0m\u001b[0;34m\u001b[0m\u001b[0m\n",
            "\u001b[0;31mNameError\u001b[0m: name 'number' is not defined"
          ]
        }
      ]
    }
  ]
}