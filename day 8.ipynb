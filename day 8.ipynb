{
  "nbformat": 4,
  "nbformat_minor": 0,
  "metadata": {
    "colab": {
      "name": "Untitled11.ipynb",
      "provenance": [],
      "collapsed_sections": [],
      "authorship_tag": "ABX9TyMLcfTQKbUh2SSNrNfUojPV",
      "include_colab_link": true
    },
    "kernelspec": {
      "name": "python3",
      "display_name": "Python 3"
    }
  },
  "cells": [
    {
      "cell_type": "markdown",
      "metadata": {
        "id": "view-in-github",
        "colab_type": "text"
      },
      "source": [
        "<a href=\"https://colab.research.google.com/github/Jatin666/py-assignment/blob/master/day%208.ipynb\" target=\"_parent\"><img src=\"https://colab.research.google.com/assets/colab-badge.svg\" alt=\"Open In Colab\"/></a>"
      ]
    },
    {
      "cell_type": "markdown",
      "metadata": {
        "id": "w0qms4uAxhcK",
        "colab_type": "text"
      },
      "source": [
        "**DAY8**"
      ]
    },
    {
      "cell_type": "code",
      "metadata": {
        "id": "H1Vzo0dCxcRY",
        "colab_type": "code",
        "outputId": "ed61d3ad-468d-4f26-b18d-c595f300c8da",
        "colab": {
          "base_uri": "https://localhost:8080/",
          "height": 34
        }
      },
      "source": [
        "## Import the module math and print the value of ‘pi’ from the math module. \n",
        "import math\n",
        "math.pi\n",
        "print(math.pi)"
      ],
      "execution_count": 0,
      "outputs": [
        {
          "output_type": "stream",
          "text": [
            "3.141592653589793\n"
          ],
          "name": "stdout"
        }
      ]
    },
    {
      "cell_type": "code",
      "metadata": {
        "id": "FcH4tpSny0gR",
        "colab_type": "code",
        "outputId": "891d345e-1935-4292-fc89-5a73af6d9166",
        "colab": {
          "base_uri": "https://localhost:8080/",
          "height": 84
        }
      },
      "source": [
        "##Ask values from user to use pow() and sqrt() methods from the math module. \n",
        "import math\n",
        "a=int(input(\"enter the values \"))\n",
        "d=int(input(\"enter the power \"))\n",
        "c=math.sqrt(a)\n",
        "b=math.pow(a,d)\n",
        "print(b)\n",
        "print(c)"
      ],
      "execution_count": 3,
      "outputs": [
        {
          "output_type": "stream",
          "text": [
            "enter the values 4\n",
            "enter the power 2\n",
            "16.0\n",
            "2.0\n"
          ],
          "name": "stdout"
        }
      ]
    },
    {
      "cell_type": "code",
      "metadata": {
        "id": "0BaMPMxCz09B",
        "colab_type": "code",
        "outputId": "fb63cdb9-49a3-4db2-d16d-4104cda3de49",
        "colab": {
          "base_uri": "https://localhost:8080/",
          "height": 34
        }
      },
      "source": [
        "##Generate a random number of 5 digit using a random module.\n",
        "import random\n",
        "start=11111\n",
        "end=99999\n",
        "a=random.randint(11111,99999)\n",
        "print(a)"
      ],
      "execution_count": 0,
      "outputs": [
        {
          "output_type": "stream",
          "text": [
            "21921\n"
          ],
          "name": "stdout"
        }
      ]
    },
    {
      "cell_type": "code",
      "metadata": {
        "id": "1qxtA6NY0v36",
        "colab_type": "code",
        "outputId": "c1a12ce6-f887-4ada-efe3-a23b5ca190da",
        "colab": {
          "base_uri": "https://localhost:8080/",
          "height": 34
        }
      },
      "source": [
        "##Make a movie list and fetch name of one movie randomly using choice() from random module.\n",
        "import random\n",
        "a=['THE MASK','MEG','IRONMAN','AVENGERS','THOR','CAPTAIN AMERICA']\n",
        "b=random.choice(a)\n",
        "print(b)"
      ],
      "execution_count": 0,
      "outputs": [
        {
          "output_type": "stream",
          "text": [
            "CAPTAIN AMERICA\n"
          ],
          "name": "stdout"
        }
      ]
    },
    {
      "cell_type": "code",
      "metadata": {
        "id": "b8oNUPCJ1jHn",
        "colab_type": "code",
        "outputId": "609b4cb7-07be-485f-840d-bee2d2b8e16c",
        "colab": {
          "base_uri": "https://localhost:8080/",
          "height": 50
        }
      },
      "source": [
        "##EXECUTE THE FOLOWING\n",
        "##RANDINT(0,9)\n",
        "##RANDRANGE(0,10,2)\n",
        "import random\n",
        "start=0\n",
        "end=11\n",
        "a=random.randint(0,9)\n",
        "b=random.randrange(0,10,2)\n",
        "print(a)\n",
        "print(b)"
      ],
      "execution_count": 0,
      "outputs": [
        {
          "output_type": "stream",
          "text": [
            "6\n",
            "4\n"
          ],
          "name": "stdout"
        }
      ]
    }
  ]
}