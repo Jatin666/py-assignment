{
  "nbformat": 4,
  "nbformat_minor": 0,
  "metadata": {
    "colab": {
      "name": "Untitled19.ipynb",
      "provenance": [],
      "collapsed_sections": [],
      "authorship_tag": "ABX9TyP8REhtJ532QN866BfXeWB9",
      "include_colab_link": true
    },
    "kernelspec": {
      "name": "python3",
      "display_name": "Python 3"
    }
  },
  "cells": [
    {
      "cell_type": "markdown",
      "metadata": {
        "id": "view-in-github",
        "colab_type": "text"
      },
      "source": [
        "<a href=\"https://colab.research.google.com/github/Jatin666/py-assignment/blob/master/cad7.ipynb\" target=\"_parent\"><img src=\"https://colab.research.google.com/assets/colab-badge.svg\" alt=\"Open In Colab\"/></a>"
      ]
    },
    {
      "cell_type": "code",
      "metadata": {
        "id": "kuTqG6XTOqhw",
        "colab_type": "code",
        "colab": {
          "base_uri": "https://localhost:8080/",
          "height": 34
        },
        "outputId": "87b53c76-8430-4848-fdd4-95bc156749d0"
      },
      "source": [
        "##execute the below code python\n",
        "##number= 1+2*3/4.0\n",
        "##remaninder= 11%3\n",
        "##squared= 7**2\n",
        "##cubed= 2**3\n",
        "##listrepeat=[1,2,3]*3\n",
        "\n",
        "\n",
        "a=1\n",
        "b=2\n",
        "c=3\n",
        "d=4.0\n",
        "f=(a+b)*(c)/d\n",
        "print(f)\n"
      ],
      "execution_count": 1,
      "outputs": [
        {
          "output_type": "stream",
          "text": [
            "2.25\n"
          ],
          "name": "stdout"
        }
      ]
    },
    {
      "cell_type": "code",
      "metadata": {
        "id": "5VviQ3PfSb9t",
        "colab_type": "code",
        "colab": {
          "base_uri": "https://localhost:8080/",
          "height": 34
        },
        "outputId": "ebaee5e0-fa08-4707-f7cc-84bb3818639e"
      },
      "source": [
        "##remaninder= 11%3\n",
        "a=11\n",
        "b=3\n",
        "c=a%b\n",
        "print(c)"
      ],
      "execution_count": 2,
      "outputs": [
        {
          "output_type": "stream",
          "text": [
            "2\n"
          ],
          "name": "stdout"
        }
      ]
    },
    {
      "cell_type": "code",
      "metadata": {
        "id": "YS4HCYTZSqvs",
        "colab_type": "code",
        "colab": {
          "base_uri": "https://localhost:8080/",
          "height": 34
        },
        "outputId": "5c1d19c8-7a4d-45a5-b775-88069f89087d"
      },
      "source": [
        "##squared= 7**2\n",
        "a=7\n",
        "b=a**2\n",
        "print(b)"
      ],
      "execution_count": 4,
      "outputs": [
        {
          "output_type": "stream",
          "text": [
            "49\n"
          ],
          "name": "stdout"
        }
      ]
    },
    {
      "cell_type": "code",
      "metadata": {
        "id": "KbN4EIOeTd33",
        "colab_type": "code",
        "colab": {
          "base_uri": "https://localhost:8080/",
          "height": 34
        },
        "outputId": "d4c324d7-b2e0-4cf2-8610-8bcae4a9c478"
      },
      "source": [
        "##cubed= 2**3\n",
        "a=2\n",
        "b=2**3\n",
        "print(b)"
      ],
      "execution_count": 7,
      "outputs": [
        {
          "output_type": "stream",
          "text": [
            "8\n"
          ],
          "name": "stdout"
        }
      ]
    },
    {
      "cell_type": "code",
      "metadata": {
        "id": "6yt-UGVJUmdh",
        "colab_type": "code",
        "colab": {
          "base_uri": "https://localhost:8080/",
          "height": 34
        },
        "outputId": "ddcc6349-9d18-493b-ea58-849ad1e0daf6"
      },
      "source": [
        "##listrepeat=[1,2,3]*3\n",
        "a=1\n",
        "b=2\n",
        "c=3\n",
        "d=[a,b,c]*3\n",
        "print(d)"
      ],
      "execution_count": 8,
      "outputs": [
        {
          "output_type": "stream",
          "text": [
            "[1, 2, 3, 1, 2, 3, 1, 2, 3]\n"
          ],
          "name": "stdout"
        }
      ]
    },
    {
      "cell_type": "code",
      "metadata": {
        "id": "VGn9dDnKU3BN",
        "colab_type": "code",
        "colab": {
          "base_uri": "https://localhost:8080/",
          "height": 34
        },
        "outputId": "ff0fa951-9b6f-46a3-99e4-60cf9c3dcd16"
      },
      "source": [
        "##use appropriate operator to perform operations between two string value\n",
        "##append two string\n",
        "##repeat string\n",
        "a=\"hii \"\n",
        "b=\"i hate you\"\n",
        "c=a+b\n",
        "print(c)"
      ],
      "execution_count": 11,
      "outputs": [
        {
          "output_type": "stream",
          "text": [
            "hii how are you\n"
          ],
          "name": "stdout"
        }
      ]
    },
    {
      "cell_type": "code",
      "metadata": {
        "id": "EFLyyVooWIxB",
        "colab_type": "code",
        "colab": {
          "base_uri": "https://localhost:8080/",
          "height": 34
        },
        "outputId": "650ca93d-f240-4b0d-b5f0-1a78a3cc7770"
      },
      "source": [
        "##repeat string\n",
        "a=\"hii \"\n",
        "b=a*2\n",
        "print(b)"
      ],
      "execution_count": 13,
      "outputs": [
        {
          "output_type": "stream",
          "text": [
            "hii hii \n"
          ],
          "name": "stdout"
        }
      ]
    },
    {
      "cell_type": "code",
      "metadata": {
        "id": "Lv1wP2TDWeXY",
        "colab_type": "code",
        "colab": {
          "base_uri": "https://localhost:8080/",
          "height": 34
        },
        "outputId": "1178615e-5f10-46ab-dace-eb5d5480a764"
      },
      "source": [
        "##Use appropriate operators to perform operations between two List Value.(2.a & 2.b)\n",
        "a=[2,'a']\n",
        "b=[2,'b']\n",
        "c=a+b\n",
        "print(c)"
      ],
      "execution_count": 14,
      "outputs": [
        {
          "output_type": "stream",
          "text": [
            "[2, 'a', 2, 'b']\n"
          ],
          "name": "stdout"
        }
      ]
    },
    {
      "cell_type": "code",
      "metadata": {
        "id": "5y7prrbeW2Qe",
        "colab_type": "code",
        "colab": {
          "base_uri": "https://localhost:8080/",
          "height": 34
        },
        "outputId": "d7af09d8-aac8-4df8-c511-f14bdfeecc98"
      },
      "source": [
        "##Use appropriate operators to perform operations between two Tuple Value.(2.a & 2.b)\n",
        "a=(2,'a')\n",
        "b=(2,'b')\n",
        "c=a+b\n",
        "print(c)"
      ],
      "execution_count": 17,
      "outputs": [
        {
          "output_type": "stream",
          "text": [
            "(2, 'a', 2, 'b')\n"
          ],
          "name": "stdout"
        }
      ]
    },
    {
      "cell_type": "code",
      "metadata": {
        "id": "78zg1Ly7XFw5",
        "colab_type": "code",
        "colab": {}
      },
      "source": [
        "##execute the following\n",
        "##not(true and true)\n",
        "##true or false\n",
        "##not(false and true)\n",
        "##false and false"
      ],
      "execution_count": 0,
      "outputs": []
    },
    {
      "cell_type": "code",
      "metadata": {
        "id": "1S26M_65Zf7e",
        "colab_type": "code",
        "colab": {
          "base_uri": "https://localhost:8080/",
          "height": 67
        },
        "outputId": "4dfa5ad4-4716-4a22-cfbb-887994a5832b"
      },
      "source": [
        "## Take two string values from the user and check if they are equal or not.\n",
        "a=input(\"enter a string: \")\n",
        "b=input(\"enter a second string \")\n",
        "if a==b:\n",
        "  print(\"correct\")\n",
        "else:\n",
        "  print(\"wrong\")"
      ],
      "execution_count": 20,
      "outputs": [
        {
          "output_type": "stream",
          "text": [
            "enter a string: hii\n",
            "enter a second string hii\n",
            "correct\n"
          ],
          "name": "stdout"
        }
      ]
    },
    {
      "cell_type": "code",
      "metadata": {
        "id": "d6JkCHRJbirN",
        "colab_type": "code",
        "colab": {
          "base_uri": "https://localhost:8080/",
          "height": 34
        },
        "outputId": "2c50009c-d3c6-4c37-f8c0-64efcf48494b"
      },
      "source": [
        "##execute the following program\n",
        "x=12\n",
        "y=14\n",
        "a=(x>10 and y>10)\n",
        "b=(x>14 or y>14)\n",
        "c=not(x>10 and y>10)\n",
        "print(a,b,c)"
      ],
      "execution_count": 23,
      "outputs": [
        {
          "output_type": "stream",
          "text": [
            "True False False\n"
          ],
          "name": "stdout"
        }
      ]
    }
  ]
}