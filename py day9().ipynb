{
  "nbformat": 4,
  "nbformat_minor": 0,
  "metadata": {
    "colab": {
      "name": "Untitled12.ipynb",
      "provenance": [],
      "collapsed_sections": [],
      "authorship_tag": "ABX9TyMMHladKE8ZjALQx2cngfcS",
      "include_colab_link": true
    },
    "kernelspec": {
      "name": "python3",
      "display_name": "Python 3"
    }
  },
  "cells": [
    {
      "cell_type": "markdown",
      "metadata": {
        "id": "view-in-github",
        "colab_type": "text"
      },
      "source": [
        "<a href=\"https://colab.research.google.com/github/Jatin666/py-assignment/blob/master/py%20day9().ipynb\" target=\"_parent\"><img src=\"https://colab.research.google.com/assets/colab-badge.svg\" alt=\"Open In Colab\"/></a>"
      ]
    },
    {
      "cell_type": "code",
      "metadata": {
        "id": "EZjy5SblQtQB",
        "colab_type": "code",
        "outputId": "f0346387-af2d-4ef1-fbf3-0d1277441e6e",
        "colab": {
          "base_uri": "https://localhost:8080/",
          "height": 84
        }
      },
      "source": [
        "##Take a number from the user and check whether it's divisible by 7 or not.\n",
        "print(\"lets try your number can be divisible by 7 or not\")\n",
        "print(\"*************************************************\")\n",
        "a=int(input(\"enter the number : \"))\n",
        "if(a % 7==0):\n",
        "  print(\"your number is divisible by 7\")\n",
        "else:\n",
        "   print(\"try another number\")"
      ],
      "execution_count": 5,
      "outputs": [
        {
          "output_type": "stream",
          "text": [
            "lets try your number can be divisible by 7 or not\n",
            "*************************************************\n",
            "enter the number : 5\n",
            "try another number\n"
          ],
          "name": "stdout"
        }
      ]
    },
    {
      "cell_type": "code",
      "metadata": {
        "id": "oEqBDnyNSkAU",
        "colab_type": "code",
        "outputId": "e637dacc-2e00-49b2-a1d0-23a2d8cc74e5",
        "colab": {
          "base_uri": "https://localhost:8080/",
          "height": 84
        }
      },
      "source": [
        "##fill the code below\n",
        "menu=['pizza','burger','fries','coke']\n",
        "print(\"MENU:\")\n",
        "print(menu)\n",
        "order=input(\"enter a food name from menu: \")\n",
        "if(order in menu):\n",
        "  print(\"will be served to you soon . thank you\")\n",
        "else:\n",
        "  print(\"Sorry!!!! we are nt delivering this today!!!\")"
      ],
      "execution_count": 0,
      "outputs": [
        {
          "output_type": "stream",
          "text": [
            "MENU:\n",
            "['pizza', 'burger', 'fries', 'coke']\n",
            "enter a food name from menu: coke'\n",
            "Sorry!!!! we are nt delivering this today!!!\n"
          ],
          "name": "stdout"
        }
      ]
    },
    {
      "cell_type": "code",
      "metadata": {
        "id": "gh-eW32qaKzR",
        "colab_type": "code",
        "outputId": "4c6c8202-ee6f-4c83-bf99-2f976bb59bd4",
        "colab": {
          "base_uri": "https://localhost:8080/",
          "height": 67
        }
      },
      "source": [
        "##Write a program that asks the user to enter a length in centimeters. If the user enters a negative length, the program \n",
        "##should tell the user that the entry is invalid. Otherwise,\n",
        "## the program should convert the length to inches and print out the result. There are 2.54 centimeters in an inch.\n",
        "a=int(input(\"enter a length : \"))\n",
        "print(\"in one inch there are 2.54cm\")\n",
        "b=a*2.54\n",
        "if(a>0):\n",
        "    print(\"the result is : \"+str(b))\n",
        "else:\n",
        "  print(\"invalid value\")"
      ],
      "execution_count": 0,
      "outputs": [
        {
          "output_type": "stream",
          "text": [
            "enter a length : 5\n",
            "in one inch there are 2.54cm\n",
            "the result is : 12.7\n"
          ],
          "name": "stdout"
        }
      ]
    },
    {
      "cell_type": "code",
      "metadata": {
        "id": "4Sx4tu1GeGpk",
        "colab_type": "code",
        "outputId": "aa2964af-e135-4675-a737-17e0310dbec6",
        "colab": {
          "base_uri": "https://localhost:8080/",
          "height": 50
        }
      },
      "source": [
        "##Generate a random number between 1 and 10. Ask the user to guess the number\n",
        "## and print a message based on whether they get it right or not.\n",
        "import random\n",
        "start=0\n",
        "end=11\n",
        "user=int(input(\"guess the number : \"))\n",
        "computer=random.randint(0,11)\n",
        "if user==computer:\n",
        "  print(\"your guess is correct\"+\"computer number is :\" + str(computer))\n",
        "else:\n",
        "  print(\"try another number\"+\"computer number is :\"  + str(computer))"
      ],
      "execution_count": 0,
      "outputs": [
        {
          "output_type": "stream",
          "text": [
            "guess the number : 4\n",
            "try another numbercomputer number is :1\n"
          ],
          "name": "stdout"
        }
      ]
    },
    {
      "cell_type": "code",
      "metadata": {
        "id": "NyhLxsi2iNZl",
        "colab_type": "code",
        "outputId": "3ca04073-d862-4f8f-b959-fe553a0a831c",
        "colab": {
          "base_uri": "https://localhost:8080/",
          "height": 34
        }
      },
      "source": [
        "##Write a program that generates 10000 random numbers between 1 and 100 and counts how many of them are multiples of 12.\n",
        "import random\n",
        "start=0\n",
        "end=100\n",
        "user=int(input(\"guess the number : \"))\n",
        "computer=random.randint(0,100)\n"
      ],
      "execution_count": 0,
      "outputs": [
        {
          "output_type": "stream",
          "text": [
            "50\n"
          ],
          "name": "stdout"
        }
      ]
    },
    {
      "cell_type": "code",
      "metadata": {
        "id": "QOUJaoypb7_2",
        "colab_type": "code",
        "colab": {}
      },
      "source": [
        "##Write a program that asks the user to guess a random number between 1 and 10. If they guess right,they\n",
        "##get 10 points added to their score,and they lose 1 point for an incorrect guess.\n",
        "## Give the user ﬁve numbers to guess and print their score after all the guessing is done\n",
        "import random\n",
        "score=0\n",
        "for i in range(5):\n",
        "  a=int(input(\"enter the number :\"))\n",
        "  computer=random.randint(0,11)\n",
        "  if(a==computer):\n",
        "    print(\"great your guess is correct\")\n",
        "    score+=10\n",
        "  else:\n",
        "    print(\"sorry your number is incorrect\")\n",
        "    score-=1\n",
        "\n",
        "print(\"your score \"+str(score))\n"
      ],
      "execution_count": 0,
      "outputs": []
    }
  ]
}